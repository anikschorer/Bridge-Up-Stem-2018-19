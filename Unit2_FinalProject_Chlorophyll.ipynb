{
 "cells": [
  {
   "cell_type": "code",
   "execution_count": 1,
   "metadata": {},
   "outputs": [],
   "source": [
    "import matplotlib.pyplot as plt\n",
    "import numpy as np\n",
    "import csv"
   ]
  },
  {
   "cell_type": "code",
   "execution_count": 2,
   "metadata": {},
   "outputs": [],
   "source": [
    "csvFile = open(\"chlorophyll_mgm3_Dec_2017.csv\", 'r') \n",
    "csvReader = csv.reader(csvFile, delimiter=',')\n",
    "data_lists = list(csvReader)"
   ]
  },
  {
   "cell_type": "code",
   "execution_count": 3,
   "metadata": {},
   "outputs": [],
   "source": [
    "#print(data_lists[0])"
   ]
  },
  {
   "cell_type": "code",
   "execution_count": 4,
   "metadata": {},
   "outputs": [
    {
     "name": "stdout",
     "output_type": "stream",
     "text": [
      "720\n"
     ]
    }
   ],
   "source": [
    "print(len(data_lists[0]))"
   ]
  },
  {
   "cell_type": "code",
   "execution_count": 5,
   "metadata": {},
   "outputs": [
    {
     "name": "stdout",
     "output_type": "stream",
     "text": [
      "360\n"
     ]
    }
   ],
   "source": [
    "print(len(data_lists))"
   ]
  },
  {
   "cell_type": "code",
   "execution_count": 6,
   "metadata": {},
   "outputs": [
    {
     "name": "stdout",
     "output_type": "stream",
     "text": [
      "720 360\n"
     ]
    }
   ],
   "source": [
    "width = len(data_lists[0])\n",
    "height = len(data_lists)\n",
    "print(width, height)"
   ]
  },
  {
   "cell_type": "code",
   "execution_count": 7,
   "metadata": {},
   "outputs": [],
   "source": [
    "grid = np.empty([height, width, 3], dtype=np.uint8) "
   ]
  },
  {
   "cell_type": "code",
   "execution_count": 14,
   "metadata": {},
   "outputs": [],
   "source": [
    "all_values = [] # We will fill in this empty list with all the data values as we go\n",
    "\n",
    "for r, row in enumerate(data_lists):\n",
    "    for c, value in enumerate(row):\n",
    "        if float(value) < 99999:\n",
    "            all_values.append(float(value)) # This is where we fill in the list with all data values\n",
    "        if float(value) <= 0.05:\n",
    "            grid[r, c] = [53, 2, 2]#dark red\n",
    "        elif float(value) <= 0.1:\n",
    "            grid[r, c] = [79, 2, 2]#mid red\n",
    "        elif float(value) <= 0.15:\n",
    "            grid[r, c] = [117, 2, 2]#light red\n",
    "        elif float(value) <= 0.2:\n",
    "            grid[r, c] = [165, 64, 1]#dark orange\n",
    "        elif float(value) <= 0.25:\n",
    "            grid[r, c] = [183, 72, 3]#mid orange\n",
    "        elif float(value) <= 0.30:\n",
    "            grid[r, c] = [211, 82, 2]#light orange\n",
    "        elif float(value) <= 0.35:\n",
    "            grid[r, c] = [229, 176, 52]#dark yellow\n",
    "        elif float(value) <= 0.40:\n",
    "            grid[r, c] = [237, 190, 80] #mid yellow\n",
    "        elif float(value) <= 0.45:\n",
    "            grid[r, c] = [255, 213, 114] #light yellow  \n",
    "        elif float(value) <= 0.50:\n",
    "            grid[r, c] = [255, 186, 219] #dark pink \n",
    "        elif float(value) <= 0.55:\n",
    "            grid[r, c] = [255, 198, 225] #mid pink\n",
    "        elif float(value) <= 0.60:\n",
    "            grid[r, c] = [255, 221, 237] #light pink \n",
    "       \n",
    "       \n",
    "        else:\n",
    "            grid[r, c] = [102, 51, 6]#brown\n",
    "           "
   ]
  },
  {
   "cell_type": "code",
   "execution_count": 15,
   "metadata": {},
   "outputs": [
    {
     "name": "stdout",
     "output_type": "stream",
     "text": [
      "74.2951\n",
      "0.01\n"
     ]
    }
   ],
   "source": [
    "maximum = max(all_values)\n",
    "minimum = min(all_values)\n",
    "\n",
    "print(maximum)\n",
    "print(minimum)\n"
   ]
  },
  {
   "cell_type": "code",
   "execution_count": 16,
   "metadata": {},
   "outputs": [
    {
     "data": {
      "image/png": "[encoded data removed]",
      "text/plain": [
       "<Figure size 432x288 with 1 Axes>"
      ]
     },
     "metadata": {},
     "output_type": "display_data"
    }
   ],
   "source": [
    "plt.title(\"Chlorophyll Concentration in 2017\")\n",
    "plt.imshow(grid)\n",
    "plt.axis('off')\n",
    "plt.savefig(\"chlorophyll2017.png\",dpi = 1000)\n",
    "plt.show()"
   ]
  },
  {
   "cell_type": "raw",
   "metadata": {},
   "source": []
  },
  {
   "cell_type": "code",
   "execution_count": null,
   "metadata": {},
   "outputs": [],
   "source": [
    "127, 64, 8"
   ]
  },
  {
   "cell_type": "code",
   "execution_count": null,
   "metadata": {},
   "outputs": [],
   "source": [
    " elif float(value) >= 0.61:\n",
    "            grid[r, c] = [229, 167, 20] #pink"
   ]
  },
  {
   "cell_type": "code",
   "execution_count": null,
   "metadata": {},
   "outputs": [],
   "source": []
  }
 ],
 "metadata": {
  "kernelspec": {
   "display_name": "Python 3",
   "language": "python",
   "name": "python3"
  },
  "language_info": {
   "codemirror_mode": {
    "name": "ipython",
    "version": 3
   },
   "file_extension": ".py",
   "mimetype": "text/x-python",
   "name": "python",
   "nbconvert_exporter": "python",
   "pygments_lexer": "ipython3",
   "version": "3.6.5"
  }
 },
 "nbformat": 4,
 "nbformat_minor": 2
}
