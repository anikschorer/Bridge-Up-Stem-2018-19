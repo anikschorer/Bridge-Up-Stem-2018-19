{
 "cells": [
  {
   "cell_type": "code",
   "execution_count": 58,
   "metadata": {},
   "outputs": [],
   "source": [
    "#import libraries/data\n",
    "import pandas as pd \n",
    "import numpy as np\n",
    "import matplotlib.pyplot as plt"
   ]
  },
  {
   "cell_type": "code",
   "execution_count": 59,
   "metadata": {},
   "outputs": [
    {
     "name": "stdout",
     "output_type": "stream",
     "text": [
      "0    20\n",
      "4    65\n",
      "5    50\n",
      "Name: column 1, dtype: int64\n"
     ]
    }
   ],
   "source": [
    "sample_df = pd.DataFrame({\"column 1\": [20,50,15,50,65,50,10], \"column 2\": [0,1,1,1,0,0,1]})\n",
    "sample_df\n",
    "\n",
    "zero_vals = sample_df[\"column 1\"].loc[sample_df[\"column 2\"] == 0]\n",
    "print(zero_vals)"
   ]
  },
  {
   "cell_type": "code",
   "execution_count": 60,
   "metadata": {},
   "outputs": [
    {
     "name": "stdout",
     "output_type": "stream",
     "text": [
      "1    1\n",
      "3    1\n",
      "5    0\n",
      "Name: column 2, dtype: int64\n"
     ]
    }
   ],
   "source": [
    "sample_df = pd.DataFrame({\"column 1\": [20,50,15,50,65,50,10], \"column 2\": [0,1,1,1,0,0,1]})\n",
    "sample_df\n",
    "\n",
    "fifty_vals = sample_df[\"column 2\"].loc[sample_df[\"column 1\"] == 50]\n",
    "print(fifty_vals)"
   ]
  },
  {
   "cell_type": "code",
   "execution_count": 61,
   "metadata": {},
   "outputs": [
    {
     "data": {
      "text/html": [
       "<div>\n",
       "<style scoped>\n",
       "    .dataframe tbody tr th:only-of-type {\n",
       "        vertical-align: middle;\n",
       "    }\n",
       "\n",
       "    .dataframe tbody tr th {\n",
       "        vertical-align: top;\n",
       "    }\n",
       "\n",
       "    .dataframe thead th {\n",
       "        text-align: right;\n",
       "    }\n",
       "</style>\n",
       "<table border=\"1\" class=\"dataframe\">\n",
       "  <thead>\n",
       "    <tr style=\"text-align: right;\">\n",
       "      <th></th>\n",
       "      <th>row_id</th>\n",
       "      <th>tgas_source_id</th>\n",
       "      <th>name</th>\n",
       "      <th>ra</th>\n",
       "      <th>dec</th>\n",
       "      <th>parallax</th>\n",
       "      <th>distance</th>\n",
       "      <th>G</th>\n",
       "      <th>J</th>\n",
       "      <th>rave_obs_id</th>\n",
       "      <th>rv</th>\n",
       "      <th>erv</th>\n",
       "      <th>group_id</th>\n",
       "      <th>group_size</th>\n",
       "    </tr>\n",
       "  </thead>\n",
       "  <tbody>\n",
       "    <tr>\n",
       "      <th>639</th>\n",
       "      <td>878</td>\n",
       "      <td>664683125774748032</td>\n",
       "      <td>HIP 42106</td>\n",
       "      <td>128.748282</td>\n",
       "      <td>21.096933</td>\n",
       "      <td>5.6650</td>\n",
       "      <td>181.036</td>\n",
       "      <td>10.988</td>\n",
       "      <td>10.012</td>\n",
       "      <td>NaN</td>\n",
       "      <td>NaN</td>\n",
       "      <td>NaN</td>\n",
       "      <td>6</td>\n",
       "      <td>58</td>\n",
       "    </tr>\n",
       "    <tr>\n",
       "      <th>640</th>\n",
       "      <td>8681</td>\n",
       "      <td>658465868556261888</td>\n",
       "      <td>TYC 1392-328-1</td>\n",
       "      <td>129.532047</td>\n",
       "      <td>17.050623</td>\n",
       "      <td>5.5242</td>\n",
       "      <td>185.010</td>\n",
       "      <td>9.640</td>\n",
       "      <td>8.943</td>\n",
       "      <td>NaN</td>\n",
       "      <td>NaN</td>\n",
       "      <td>NaN</td>\n",
       "      <td>6</td>\n",
       "      <td>58</td>\n",
       "    </tr>\n",
       "    <tr>\n",
       "      <th>641</th>\n",
       "      <td>8687</td>\n",
       "      <td>658628905514597376</td>\n",
       "      <td>TYC 1396-398-1</td>\n",
       "      <td>131.049688</td>\n",
       "      <td>17.902137</td>\n",
       "      <td>5.2245</td>\n",
       "      <td>196.198</td>\n",
       "      <td>9.780</td>\n",
       "      <td>9.049</td>\n",
       "      <td>NaN</td>\n",
       "      <td>NaN</td>\n",
       "      <td>NaN</td>\n",
       "      <td>6</td>\n",
       "      <td>58</td>\n",
       "    </tr>\n",
       "    <tr>\n",
       "      <th>642</th>\n",
       "      <td>8730</td>\n",
       "      <td>659439073785562240</td>\n",
       "      <td>HIP 42436</td>\n",
       "      <td>129.795532</td>\n",
       "      <td>18.175939</td>\n",
       "      <td>5.7328</td>\n",
       "      <td>176.077</td>\n",
       "      <td>10.091</td>\n",
       "      <td>9.307</td>\n",
       "      <td>NaN</td>\n",
       "      <td>NaN</td>\n",
       "      <td>NaN</td>\n",
       "      <td>6</td>\n",
       "      <td>58</td>\n",
       "    </tr>\n",
       "    <tr>\n",
       "      <th>643</th>\n",
       "      <td>8736</td>\n",
       "      <td>659472230933525760</td>\n",
       "      <td>TYC 1395-1484-1</td>\n",
       "      <td>130.381248</td>\n",
       "      <td>18.500565</td>\n",
       "      <td>5.2591</td>\n",
       "      <td>197.704</td>\n",
       "      <td>10.221</td>\n",
       "      <td>9.364</td>\n",
       "      <td>20120315_0842p20_077</td>\n",
       "      <td>33.74</td>\n",
       "      <td>1.36</td>\n",
       "      <td>6</td>\n",
       "      <td>58</td>\n",
       "    </tr>\n",
       "  </tbody>\n",
       "</table>\n",
       "</div>"
      ],
      "text/plain": [
       "     row_id      tgas_source_id             name          ra        dec  \\\n",
       "639     878  664683125774748032        HIP 42106  128.748282  21.096933   \n",
       "640    8681  658465868556261888   TYC 1392-328-1  129.532047  17.050623   \n",
       "641    8687  658628905514597376   TYC 1396-398-1  131.049688  17.902137   \n",
       "642    8730  659439073785562240        HIP 42436  129.795532  18.175939   \n",
       "643    8736  659472230933525760  TYC 1395-1484-1  130.381248  18.500565   \n",
       "\n",
       "     parallax  distance       G       J           rave_obs_id     rv   erv  \\\n",
       "639    5.6650   181.036  10.988  10.012                   NaN    NaN   NaN   \n",
       "640    5.5242   185.010   9.640   8.943                   NaN    NaN   NaN   \n",
       "641    5.2245   196.198   9.780   9.049                   NaN    NaN   NaN   \n",
       "642    5.7328   176.077  10.091   9.307                   NaN    NaN   NaN   \n",
       "643    5.2591   197.704  10.221   9.364  20120315_0842p20_077  33.74  1.36   \n",
       "\n",
       "     group_id  group_size  \n",
       "639         6          58  \n",
       "640         6          58  \n",
       "641         6          58  \n",
       "642         6          58  \n",
       "643         6          58  "
      ]
     },
     "execution_count": 61,
     "metadata": {},
     "output_type": "execute_result"
    }
   ],
   "source": [
    "#isolate data\n",
    "#praesepe is group 6\n",
    "df = pd.read_csv(\"oh_table.csv\")\n",
    "pdf = df.loc[df[\"group_id\"]== 6]\n",
    "pdf.head()"
   ]
  },
  {
   "cell_type": "code",
   "execution_count": 72,
   "metadata": {},
   "outputs": [
    {
     "name": "stdout",
     "output_type": "stream",
     "text": [
      "639    10.988\n",
      "640     9.640\n",
      "641     9.780\n",
      "642    10.091\n",
      "643    10.221\n",
      "Name: G, dtype: float64\n",
      "639    10.012\n",
      "640     8.943\n",
      "641     9.049\n",
      "642     9.307\n",
      "643     9.364\n",
      "Name: J, dtype: float64\n",
      "639    181.036\n",
      "640    185.010\n",
      "641    196.198\n",
      "642    176.077\n",
      "643    197.704\n",
      "Name: distance, dtype: float64\n"
     ]
    }
   ],
   "source": [
    "#isolate G and J\n",
    "g = pdf[\"G\"]\n",
    "print(g.head())\n",
    "j = pdf[\"J\"]\n",
    "print(j.head())\n",
    "distance = pdf[\"distance\"]\n",
    "print(distance.head())"
   ]
  },
  {
   "cell_type": "code",
   "execution_count": 73,
   "metadata": {
    "scrolled": true
   },
   "outputs": [
    {
     "name": "stdout",
     "output_type": "stream",
     "text": [
      "639    0.976\n",
      "640    0.697\n",
      "641    0.731\n",
      "642    0.784\n",
      "643    0.857\n",
      "dtype: float64\n"
     ]
    }
   ],
   "source": [
    "#color = g-j\n",
    "color = g-j\n",
    "print(color.head())"
   ]
  },
  {
   "cell_type": "code",
   "execution_count": 74,
   "metadata": {},
   "outputs": [],
   "source": [
    "#calculating absolute magnitude = color g -> do function = abs magnitude\n",
    "am = g - 5 * np.log10(distance) + 5\n"
   ]
  },
  {
   "cell_type": "code",
   "execution_count": 81,
   "metadata": {},
   "outputs": [],
   "source": [
    "#calculating where to plot the sun\n",
    "SunJ = 3.64\n",
    "SunG = 5.12\n",
    "Suncolor = SunG - SunJ"
   ]
  },
  {
   "cell_type": "code",
   "execution_count": 116,
   "metadata": {},
   "outputs": [
    {
     "data": {
      "text/plain": [
       "185.71839655172408"
      ]
     },
     "execution_count": 116,
     "metadata": {},
     "output_type": "execute_result"
    }
   ],
   "source": []
  },
  {
   "cell_type": "code",
   "execution_count": 114,
   "metadata": {},
   "outputs": [
    {
     "data": {
      "image/png": "[encoded data removed]",
      "text/plain": [
       "<Figure size 432x288 with 1 Axes>"
      ]
     },
     "metadata": {},
     "output_type": "display_data"
    },
    {
     "data": {
      "image/png": "[encoded data removed]",
      "text/plain": [
       "<Figure size 432x288 with 1 Axes>"
      ]
     },
     "metadata": {},
     "output_type": "display_data"
    },
    {
     "data": {
      "image/png": "[encoded data removed]",
      "text/plain": [
       "<Figure size 432x288 with 1 Axes>"
      ]
     },
     "metadata": {},
     "output_type": "display_data"
    },
    {
     "data": {
      "image/png": "[encoded data removed]",
      "text/plain": [
       "<Figure size 432x288 with 1 Axes>"
      ]
     },
     "metadata": {},
     "output_type": "display_data"
    }
   ],
   "source": [
    "#graph \n",
    "#colormap\n",
    "cm = plt.cm.get_cmap(\"gnuplot2\")\n",
    "#plotting the data\n",
    "plt.scatter(color, am, c=am, s=35, cmap=cm)\n",
    "#invert yaxis\n",
    "plt.gca().invert_yaxis()\n",
    "#Plot Sun\n",
    "plt.scatter(Suncolor, SunG, c='gold', s=200, marker='*')\n",
    "#Titles\n",
    "plt.title(\"Praesepe Color Magnitude Diagram\")\n",
    "plt.xlabel(\"Color\")\n",
    "plt.ylabel(\"Absolute Magnitude (Parsecs)\")\n",
    "#Show Graph\n",
    "plt.show()\n",
    "\n",
    "#histogram about distance\n",
    "plt.hist(distance)\n",
    "plt.title(\"Distance of the Stars in The Praesepe Cluster\")\n",
    "plt.xlabel(\"Distance\")\n",
    "plt.ylabel(\"Number of Stars\")\n",
    "plt.show()\n",
    "\n",
    "#histogram about color\n",
    "plt.hist(color)\n",
    "plt.title(\"Color of the Stars in The Praesepe Cluster\")\n",
    "plt.xlabel(\"Color - from red to blue\")\n",
    "plt.ylabel(\"Number of Stars\")\n",
    "plt.show()\n",
    "\n",
    "#histogram on absolute magnitude\n",
    "plt.hist(am)\n",
    "plt.title(\"Absolute Magnitude of the Stars in The Praesepe Cluster\")\n",
    "plt.xlabel(\"Absolute Magnitude\")\n",
    "plt.ylabel(\"Number of Stars\")\n",
    "plt.show()\n",
    "\n"
   ]
  },
  {
   "cell_type": "code",
   "execution_count": null,
   "metadata": {},
   "outputs": [],
   "source": []
  },
  {
   "cell_type": "code",
   "execution_count": null,
   "metadata": {},
   "outputs": [],
   "source": []
  }
 ],
 "metadata": {
  "kernelspec": {
   "display_name": "Python 3",
   "language": "python",
   "name": "python3"
  },
  "language_info": {
   "codemirror_mode": {
    "name": "ipython",
    "version": 3
   },
   "file_extension": ".py",
   "mimetype": "text/x-python",
   "name": "python",
   "nbconvert_exporter": "python",
   "pygments_lexer": "ipython3",
   "version": "3.6.5"
  }
 },
 "nbformat": 4,
 "nbformat_minor": 2
}
